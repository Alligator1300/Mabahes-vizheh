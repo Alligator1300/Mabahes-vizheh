{
 "cells": [
  {
   "cell_type": "code",
   "execution_count": 4,
   "id": "d6858c2d-de56-4cd2-8c61-f6eb00b86952",
   "metadata": {},
   "outputs": [
    {
     "name": "stdout",
     "output_type": "stream",
     "text": [
      "یچه خر خون\n"
     ]
    }
   ],
   "source": [
    "x=18\n",
    "if (x>=18):\n",
    "    print ('یچه خر خون')\n",
    "elif (x>12):\n",
    "    print ('نیاز به تلاش بیشتر')\n",
    "elif (12>x>18):\n",
    "    print ('خوب')\n",
    "else :\n",
    "    print ('نمر به درستی وارد نشده است')"
   ]
  },
  {
   "cell_type": "code",
   "execution_count": null,
   "id": "b02ab218-3c6a-4813-9a05-a32a8aaab5ff",
   "metadata": {},
   "outputs": [],
   "source": []
  },
  {
   "cell_type": "code",
   "execution_count": null,
   "id": "e8daf329-42ba-4cf9-a327-d5714f547e12",
   "metadata": {},
   "outputs": [],
   "source": []
  }
 ],
 "metadata": {
  "kernelspec": {
   "display_name": "Python 3 (ipykernel)",
   "language": "python",
   "name": "python3"
  },
  "language_info": {
   "codemirror_mode": {
    "name": "ipython",
    "version": 3
   },
   "file_extension": ".py",
   "mimetype": "text/x-python",
   "name": "python",
   "nbconvert_exporter": "python",
   "pygments_lexer": "ipython3",
   "version": "3.10.7"
  }
 },
 "nbformat": 4,
 "nbformat_minor": 5
}
